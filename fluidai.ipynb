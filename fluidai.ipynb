{
  "nbformat": 4,
  "nbformat_minor": 0,
  "metadata": {
    "colab": {
      "provenance": [],
      "authorship_tag": "ABX9TyPMHrSGUnlWXP30bwZUdu6b",
      "include_colab_link": true
    },
    "kernelspec": {
      "name": "python3",
      "display_name": "Python 3"
    },
    "language_info": {
      "name": "python"
    }
  },
  "cells": [
    {
      "cell_type": "markdown",
      "metadata": {
        "id": "view-in-github",
        "colab_type": "text"
      },
      "source": [
        "<a href=\"https://colab.research.google.com/github/Akash-ii/information-extractor/blob/main/fluidai.ipynb\" target=\"_parent\"><img src=\"https://colab.research.google.com/assets/colab-badge.svg\" alt=\"Open In Colab\"/></a>"
      ]
    },
    {
      "cell_type": "code",
      "source": [
        "!pip install PyMuPDF\n",
        "!pip install nltk\n",
        "!pip install transformers\n"
      ],
      "metadata": {
        "colab": {
          "base_uri": "https://localhost:8080/"
        },
        "collapsed": true,
        "id": "x-MKtnXprCWG",
        "outputId": "f2075d4e-0528-4812-ee84-508097462755"
      },
      "execution_count": null,
      "outputs": [
        {
          "output_type": "stream",
          "name": "stdout",
          "text": [
            "Collecting PyMuPDF\n",
            "  Downloading PyMuPDF-1.24.13-cp39-abi3-manylinux2014_x86_64.manylinux_2_17_x86_64.whl.metadata (3.4 kB)\n",
            "Downloading PyMuPDF-1.24.13-cp39-abi3-manylinux2014_x86_64.manylinux_2_17_x86_64.whl (19.8 MB)\n",
            "\u001b[2K   \u001b[90m━━━━━━━━━━━━━━━━━━━━━━━━━━━━━━━━━━━━━━━━\u001b[0m \u001b[32m19.8/19.8 MB\u001b[0m \u001b[31m51.5 MB/s\u001b[0m eta \u001b[36m0:00:00\u001b[0m\n",
            "\u001b[?25hInstalling collected packages: PyMuPDF\n",
            "Successfully installed PyMuPDF-1.24.13\n",
            "Requirement already satisfied: nltk in /usr/local/lib/python3.10/dist-packages (3.8.1)\n",
            "Requirement already satisfied: click in /usr/local/lib/python3.10/dist-packages (from nltk) (8.1.7)\n",
            "Requirement already satisfied: joblib in /usr/local/lib/python3.10/dist-packages (from nltk) (1.4.2)\n",
            "Requirement already satisfied: regex>=2021.8.3 in /usr/local/lib/python3.10/dist-packages (from nltk) (2024.9.11)\n",
            "Requirement already satisfied: tqdm in /usr/local/lib/python3.10/dist-packages (from nltk) (4.66.6)\n",
            "Requirement already satisfied: transformers in /usr/local/lib/python3.10/dist-packages (4.44.2)\n",
            "Requirement already satisfied: filelock in /usr/local/lib/python3.10/dist-packages (from transformers) (3.16.1)\n",
            "Requirement already satisfied: huggingface-hub<1.0,>=0.23.2 in /usr/local/lib/python3.10/dist-packages (from transformers) (0.24.7)\n",
            "Requirement already satisfied: numpy>=1.17 in /usr/local/lib/python3.10/dist-packages (from transformers) (1.26.4)\n",
            "Requirement already satisfied: packaging>=20.0 in /usr/local/lib/python3.10/dist-packages (from transformers) (24.1)\n",
            "Requirement already satisfied: pyyaml>=5.1 in /usr/local/lib/python3.10/dist-packages (from transformers) (6.0.2)\n",
            "Requirement already satisfied: regex!=2019.12.17 in /usr/local/lib/python3.10/dist-packages (from transformers) (2024.9.11)\n",
            "Requirement already satisfied: requests in /usr/local/lib/python3.10/dist-packages (from transformers) (2.32.3)\n",
            "Requirement already satisfied: safetensors>=0.4.1 in /usr/local/lib/python3.10/dist-packages (from transformers) (0.4.5)\n",
            "Requirement already satisfied: tokenizers<0.20,>=0.19 in /usr/local/lib/python3.10/dist-packages (from transformers) (0.19.1)\n",
            "Requirement already satisfied: tqdm>=4.27 in /usr/local/lib/python3.10/dist-packages (from transformers) (4.66.6)\n",
            "Requirement already satisfied: fsspec>=2023.5.0 in /usr/local/lib/python3.10/dist-packages (from huggingface-hub<1.0,>=0.23.2->transformers) (2024.10.0)\n",
            "Requirement already satisfied: typing-extensions>=3.7.4.3 in /usr/local/lib/python3.10/dist-packages (from huggingface-hub<1.0,>=0.23.2->transformers) (4.12.2)\n",
            "Requirement already satisfied: charset-normalizer<4,>=2 in /usr/local/lib/python3.10/dist-packages (from requests->transformers) (3.4.0)\n",
            "Requirement already satisfied: idna<4,>=2.5 in /usr/local/lib/python3.10/dist-packages (from requests->transformers) (3.10)\n",
            "Requirement already satisfied: urllib3<3,>=1.21.1 in /usr/local/lib/python3.10/dist-packages (from requests->transformers) (2.2.3)\n",
            "Requirement already satisfied: certifi>=2017.4.17 in /usr/local/lib/python3.10/dist-packages (from requests->transformers) (2024.8.30)\n"
          ]
        }
      ]
    },
    {
      "cell_type": "code",
      "source": [
        "import fitz\n",
        "import nltk\n",
        "from transformers import pipeline\n",
        "from nltk.tokenize import sent_tokenize\n",
        "\n",
        "\n",
        "\n",
        "def extract_text_from_pdf(pdf_path):\n",
        "    text = \"\"\n",
        "    with fitz.open(pdf_path) as doc:\n",
        "        for page_num in range(doc.page_count):\n",
        "            page = doc[page_num]\n",
        "            text += page.get_text()\n",
        "    return text\n",
        "\n",
        "\n",
        "pdf_path = \"/content/drive/MyDrive/SJS Transcript Call.pdf\"\n",
        "document_text = extract_text_from_pdf(pdf_path)\n",
        "\n",
        "\n",
        "sentences = sent_tokenize(document_text)\n",
        "\n",
        "\n",
        "keywords = [\"growth\", \"revenue\", \"acquisition\", \"strategy\", \"market\", \"profit\", \"financial\"]\n",
        "\n",
        "def filter_sentences(sentences, keywords):\n",
        "    return [sentence for sentence in sentences if any(keyword in sentence.lower() for keyword in keywords)]\n",
        "\n",
        "filtered_sentences = filter_sentences(sentences, keywords)\n",
        "\n",
        "\n",
        "summarizer = pipeline(\"summarization\")\n",
        "text_to_summarize = \" \".join(filtered_sentences)\n",
        "\n",
        "def chunk_text(text, max_chunk):\n",
        "    sentences = text.split(\". \")\n",
        "    current_chunk = []\n",
        "    chunks = []\n",
        "    current_length = 0\n",
        "\n",
        "    for sentence in sentences:\n",
        "        sentence_len = len(sentence.split())\n",
        "        if current_length + sentence_len > max_chunk:\n",
        "            chunks.append(\" \".join(current_chunk))\n",
        "            current_chunk = []\n",
        "            current_length = 0\n",
        "        current_chunk.append(sentence)\n",
        "        current_length += sentence_len\n",
        "    chunks.append(\" \".join(current_chunk))\n",
        "    return chunks\n",
        "\n",
        "text_chunks = chunk_text(text_to_summarize, 512)\n",
        "summaries = [summarizer(chunk)[0]['summary_text'] for chunk in text_chunks]\n",
        "final_summary = \" \".join(summaries)\n",
        "\n",
        "print(\"Key Information:\")\n",
        "print(final_summary)\n"
      ],
      "metadata": {
        "colab": {
          "base_uri": "https://localhost:8080/"
        },
        "id": "NBGFPmTJrUdP",
        "outputId": "3cd4653c-93e3-4efe-948a-36cc08c7eaee"
      },
      "execution_count": null,
      "outputs": [
        {
          "output_type": "stream",
          "name": "stderr",
          "text": [
            "No model was supplied, defaulted to sshleifer/distilbart-cnn-12-6 and revision a4f8f3e (https://huggingface.co/sshleifer/distilbart-cnn-12-6).\n",
            "Using a pipeline without specifying a model name and revision in production is not recommended.\n"
          ]
        },
        {
          "output_type": "stream",
          "name": "stdout",
          "text": [
            "Key Information:\n",
            " SJS Enterprises has completed the transformative acquisition of Walter Pack India within the set of set  macros . SJS has penetrated deeper in passenger vehicles and consumer appliances segment, further reducing our two wheeler dependence . We have gained more confidence in our execution capabilities of acquiring and integrating companies that could take SJS to the next level of growth .  Walter Pack Q1 witnessed a strong revenue growth of 21% YoY and a robust margin performance with EBITDA margins around ��31.5% Please note that for FY24 only nine months financials of Walter Pack India will be consolidated with SJS financials .  Proforma financial of SJS for Q1 FY24 by including Walter Pack India numbers included in that consolidated financial . From Q2 onwards, WPI financial will be consolidated with the SJS numbers . Pro forma revenue would have been Rs.1,528.7 million, a YoY growth of 48.2% This would result in a PAT growth of 52.1% and EPS growth of 51.8% YoY .  SJS will continue to deliver on its robust financial and operational guidance of FY24 with 50% growth in the SJS consolidated revenues and a consolidated PAT growth of about 40% YoY  with the addition of Walter Pack revenues and robust margin profile in our existing businesses . We are always referring that we will maintain our growth rate of 20% to 25% and Walter Pack will be part of that growth .  SJS Enterprises CEO Sanjay Thapar: Our strategy always has been that we take customers and we grow them into mega counts. Our focus as I said earlier is to prove our credentials with these global companies in the Indian  market and then use the goodwill that we've generated in terms of capability demonstration to penetrate to the global network . With Autoliv, we won a large order of order of course for the India market. Exports has jumped up double, about 90% growth overall, this last quarter versus the quarter a ophobic year before We expect ipient Exotech to return .  Consumer durables is a very important segment for us and we have made further inroads by the Walter Pack acquisition where we've added a new consumer product line to our portfolio  which is the Fascia Plate that you have for modular switches . Overall, I think we will  grow at about 20% - 25% organic growth as we guided earlier in terms of mid-term growth guidance .  Devanshi Dhruva: \"Currently, we are at a capacity utilization of 60% to 70% and we can generate revenue close to  revenue close to ishlyRs.200 crores\" WPI: \"We are opening new doors in terms of new technologies with them,  which is increasing the addressable market very, very quickly\"\n"
          ]
        }
      ]
    }
  ]
}